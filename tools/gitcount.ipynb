{
 "cells": [
  {
   "cell_type": "markdown",
   "metadata": {},
   "source": [
    "## `spreg` Change Log Statistics\n",
    "\n",
    "This notebook generates the summary statistics for a package. \n",
    "\n",
    "It assumes you are running this under the `tools` directory at the toplevel of the package\n",
    "\n"
   ]
  },
  {
   "cell_type": "markdown",
   "metadata": {},
   "source": [
    "This notebook will generate a file in the current directory with the name \"changelog_VERSION.md\". You can edit and append this on front of the CHANGELOG file for the package release."
   ]
  },
  {
   "cell_type": "code",
   "execution_count": null,
   "metadata": {
    "ExecuteTime": {
     "end_time": "2022-07-26T01:43:13.550345Z",
     "start_time": "2022-07-26T01:43:13.259964Z"
    }
   },
   "outputs": [],
   "source": [
    "from __future__ import print_function\n",
    "import os\n",
    "import json\n",
    "import re\n",
    "import sys\n",
    "import pandas\n",
    "\n",
    "from datetime import datetime, timedelta\n",
    "from time import sleep\n",
    "from subprocess import check_output, Popen, PIPE\n",
    "\n",
    "try:\n",
    "    from urllib import urlopen\n",
    "except:\n",
    "    from urllib.request import urlopen\n",
    "\n",
    "import ssl\n",
    "import yaml\n",
    "import versioneer\n",
    "from collections import Counter\n",
    "\n",
    "context = ssl._create_unverified_context()"
   ]
  },
  {
   "cell_type": "code",
   "execution_count": null,
   "metadata": {
    "ExecuteTime": {
     "end_time": "2022-07-26T01:43:13.592153Z",
     "start_time": "2022-07-26T01:43:13.554999Z"
    }
   },
   "outputs": [],
   "source": [
    "#  get date of last tag\n",
    "x, err = Popen(\n",
    "    'git log -1 --tags --simplify-by-decoration --pretty=\"%ai\"| cat',\n",
    "    stdin=PIPE,\n",
    "    stdout=PIPE,\n",
    "    stderr=PIPE,\n",
    "    shell=True,\n",
    ").communicate()\n",
    "start_date = x.split()[0].decode(\"utf-8\")"
   ]
  },
  {
   "cell_type": "code",
   "execution_count": null,
   "metadata": {
    "ExecuteTime": {
     "end_time": "2022-07-26T01:43:13.599251Z",
     "start_time": "2022-07-26T01:43:13.595767Z"
    }
   },
   "outputs": [],
   "source": [
    "#  today's date\n",
    "release_date = str(datetime.today()).split()[0]"
   ]
  },
  {
   "cell_type": "code",
   "execution_count": null,
   "metadata": {
    "ExecuteTime": {
     "end_time": "2022-07-26T01:43:13.604266Z",
     "start_time": "2022-07-26T01:43:13.601479Z"
    }
   },
   "outputs": [],
   "source": [
    "package = \"spreg\""
   ]
  },
  {
   "cell_type": "code",
   "execution_count": null,
   "metadata": {
    "ExecuteTime": {
     "end_time": "2022-07-26T01:43:13.614329Z",
     "start_time": "2022-07-26T01:43:13.606155Z"
    }
   },
   "outputs": [],
   "source": [
    "CWD = os.path.abspath(os.path.curdir)\n",
    "CWD"
   ]
  },
  {
   "cell_type": "code",
   "execution_count": null,
   "metadata": {
    "ExecuteTime": {
     "end_time": "2022-07-26T01:43:13.620730Z",
     "start_time": "2022-07-26T01:43:13.616113Z"
    }
   },
   "outputs": [],
   "source": [
    "since_date = f'--since=\"{start_date}\"'\n",
    "since_date\n",
    "since = datetime.strptime(start_date + \" 0:0:0\", \"%Y-%m-%d %H:%M:%S\")\n",
    "since"
   ]
  },
  {
   "cell_type": "code",
   "execution_count": null,
   "metadata": {
    "ExecuteTime": {
     "end_time": "2022-07-26T01:43:13.632187Z",
     "start_time": "2022-07-26T01:43:13.625013Z"
    }
   },
   "outputs": [],
   "source": [
    "# get __version__\n",
    "%run ../spreg/_version.py"
   ]
  },
  {
   "cell_type": "code",
   "execution_count": null,
   "metadata": {
    "ExecuteTime": {
     "end_time": "2022-07-26T01:43:13.724750Z",
     "start_time": "2022-07-26T01:43:13.633829Z"
    }
   },
   "outputs": [],
   "source": [
    "__version__ = get_versions()[\"version\"]\n",
    "__version__"
   ]
  },
  {
   "cell_type": "markdown",
   "metadata": {},
   "source": [
    "## Total commits by subpackage"
   ]
  },
  {
   "cell_type": "code",
   "execution_count": null,
   "metadata": {
    "ExecuteTime": {
     "end_time": "2022-07-26T01:43:13.753518Z",
     "start_time": "2022-07-26T01:43:13.727557Z"
    }
   },
   "outputs": [],
   "source": [
    "cmd = [\"git\", \"log\", \"--oneline\", since_date]\n",
    "ncommits = len(check_output(cmd).splitlines())\n",
    "ncommits"
   ]
  },
  {
   "cell_type": "markdown",
   "metadata": {},
   "source": [
    "## List Contributors"
   ]
  },
  {
   "cell_type": "markdown",
   "metadata": {},
   "source": [
    "Some of our contributors have many aliases for the same identity. So, we've added a mapping to make sure that individuals are listed once (and only once). "
   ]
  },
  {
   "cell_type": "code",
   "execution_count": null,
   "metadata": {
    "ExecuteTime": {
     "end_time": "2022-07-26T01:43:13.760779Z",
     "start_time": "2022-07-26T01:43:13.756173Z"
    }
   },
   "outputs": [],
   "source": [
    "identities = {\n",
    "    \"Levi John Wolf\": (\"ljwolf\", \"Levi John Wolf\"),\n",
    "    \"Serge Rey\": (\"Serge Rey\", \"Sergio Rey\", \"sjsrey\", \"serge\"),\n",
    "    \"Wei Kang\": (\"Wei Kang\", \"weikang9009\"),\n",
    "    \"Dani Arribas-Bel\": (\"Dani Arribas-Bel\", \"darribas\"),\n",
    "    \"Pedro Amaral\": (\"Pedro Amaral\", \"pedrovma\"),\n",
    "}\n",
    "\n",
    "\n",
    "def regularize_identity(string):\n",
    "    string = string.decode()\n",
    "    for name, aliases in identities.items():\n",
    "        for alias in aliases:\n",
    "            if alias in string:\n",
    "                string = string.replace(alias, name)\n",
    "    if len(string.split(\" \")) > 1:\n",
    "        string = string.title()\n",
    "    return string.lstrip(\"* \")"
   ]
  },
  {
   "cell_type": "code",
   "execution_count": null,
   "metadata": {
    "ExecuteTime": {
     "end_time": "2022-07-26T01:43:13.766107Z",
     "start_time": "2022-07-26T01:43:13.763479Z"
    }
   },
   "outputs": [],
   "source": [
    "author_cmd = [\"git\", \"log\", \"--format=* %aN\", since_date]"
   ]
  },
  {
   "cell_type": "code",
   "execution_count": null,
   "metadata": {
    "ExecuteTime": {
     "end_time": "2022-07-26T01:43:13.818151Z",
     "start_time": "2022-07-26T01:43:13.769093Z"
    }
   },
   "outputs": [],
   "source": [
    "ncommits = len(check_output(cmd).splitlines())\n",
    "all_authors = check_output(author_cmd).splitlines()\n",
    "counter = Counter([regularize_identity(author) for author in all_authors])\n",
    "#        global_counter += counter\n",
    "#        counters.update({'.'.join((package,subpackage)): counter})\n",
    "unique_authors = sorted(set(all_authors))\n",
    "unique_authors = counter.keys()\n",
    "unique_authors"
   ]
  },
  {
   "cell_type": "markdown",
   "metadata": {},
   "source": [
    "## Disaggregate by PR, Issue"
   ]
  },
  {
   "cell_type": "code",
   "execution_count": null,
   "metadata": {
    "ExecuteTime": {
     "end_time": "2022-07-26T01:43:13.824304Z",
     "start_time": "2022-07-26T01:43:13.821086Z"
    }
   },
   "outputs": [],
   "source": [
    "ISO8601 = \"%Y-%m-%dT%H:%M:%SZ\"\n",
    "PER_PAGE = 100\n",
    "element_pat = re.compile(r\"<(.+?)>\")\n",
    "rel_pat = re.compile(r'rel=[\\'\"](\\w+)[\\'\"]')"
   ]
  },
  {
   "cell_type": "code",
   "execution_count": null,
   "metadata": {
    "ExecuteTime": {
     "end_time": "2022-07-26T01:43:13.835605Z",
     "start_time": "2022-07-26T01:43:13.826583Z"
    }
   },
   "outputs": [],
   "source": [
    "def parse_link_header(headers):\n",
    "    link_s = headers.get(\"link\", \"\")\n",
    "    urls = element_pat.findall(link_s)\n",
    "    rels = rel_pat.findall(link_s)\n",
    "    d = {}\n",
    "    for rel, url in zip(rels, urls):\n",
    "        d[rel] = url\n",
    "    return d\n",
    "\n",
    "\n",
    "def get_paged_request(url):\n",
    "    \"\"\"get a full list, handling APIv3's paging\"\"\"\n",
    "    results = []\n",
    "    while url:\n",
    "        # print(\"fetching %s\" % url, file=sys.stderr)\n",
    "        f = urlopen(url)\n",
    "        results.extend(json.load(f))\n",
    "        links = parse_link_header(f.headers)\n",
    "        url = links.get(\"next\")\n",
    "    return results\n",
    "\n",
    "\n",
    "def get_issues(project=\"pysal/segregation\", state=\"closed\", pulls=False):\n",
    "    \"\"\"Get a list of the issues from the Github API.\"\"\"\n",
    "    which = \"pulls\" if pulls else \"issues\"\n",
    "    url = \"https://api.github.com/repos/%s/%s?state=%s&per_page=%i\" % (\n",
    "        project,\n",
    "        which,\n",
    "        state,\n",
    "        PER_PAGE,\n",
    "    )\n",
    "    return get_paged_request(url)\n",
    "\n",
    "\n",
    "def _parse_datetime(s):\n",
    "    \"\"\"Parse dates in the format returned by the Github API.\"\"\"\n",
    "    if s:\n",
    "        return datetime.strptime(s, ISO8601)\n",
    "    else:\n",
    "        return datetime.fromtimestamp(0)\n",
    "\n",
    "\n",
    "def issues2dict(issues):\n",
    "    \"\"\"Convert a list of issues to a dict, keyed by issue number.\"\"\"\n",
    "    idict = {}\n",
    "    for i in issues:\n",
    "        idict[i[\"number\"]] = i\n",
    "    return idict\n",
    "\n",
    "\n",
    "def is_pull_request(issue):\n",
    "    \"\"\"Return True if the given issue is a pull request.\"\"\"\n",
    "    return \"pull_request_url\" in issue\n",
    "\n",
    "\n",
    "def issues_closed_since(\n",
    "    period=timedelta(days=365), project=\"pysal/segregation\", pulls=False\n",
    "):\n",
    "    \"\"\"Get all issues closed since a particular point in time. period\n",
    "    can either be a datetime object, or a timedelta object. In the\n",
    "    latter case, it is used as a time before the present.\"\"\"\n",
    "\n",
    "    which = \"pulls\" if pulls else \"issues\"\n",
    "\n",
    "    if isinstance(period, timedelta):\n",
    "        period = datetime.now() - period\n",
    "    url = (\n",
    "        \"https://api.github.com/repos/%s/%s?state=closed&sort=updated&since=%s&per_page=%i\"\n",
    "        % (project, which, period.strftime(ISO8601), PER_PAGE)\n",
    "    )\n",
    "    allclosed = get_paged_request(url)\n",
    "    # allclosed = get_issues(project=project, state='closed', pulls=pulls, since=period)\n",
    "    filtered = [i for i in allclosed if _parse_datetime(i[\"closed_at\"]) > period]\n",
    "\n",
    "    # exclude rejected PRs\n",
    "    if pulls:\n",
    "        filtered = [pr for pr in filtered if pr[\"merged_at\"]]\n",
    "\n",
    "    return filtered\n",
    "\n",
    "\n",
    "def sorted_by_field(issues, field=\"closed_at\", reverse=False):\n",
    "    \"\"\"Return a list of issues sorted by closing date date.\"\"\"\n",
    "    return sorted(issues, key=lambda i: i[field], reverse=reverse)\n",
    "\n",
    "\n",
    "def report(issues, show_urls=False):\n",
    "    \"\"\"Summary report about a list of issues, printing number and title.\"\"\"\n",
    "    # titles may have unicode in them, so we must encode everything below\n",
    "    if show_urls:\n",
    "        for i in issues:\n",
    "            role = \"ghpull\" if \"merged_at\" in i else \"ghissue\"\n",
    "            print(\"* :%s:`%d`: %s\" % (role, i[\"number\"], i[\"title\"].encode(\"utf-8\")))\n",
    "    else:\n",
    "        for i in issues:\n",
    "            print(\"* %d: %s\" % (i[\"number\"], i[\"title\"].encode(\"utf-8\")))"
   ]
  },
  {
   "cell_type": "code",
   "execution_count": null,
   "metadata": {
    "ExecuteTime": {
     "end_time": "2022-07-26T01:43:15.802074Z",
     "start_time": "2022-07-26T01:43:13.837718Z"
    }
   },
   "outputs": [],
   "source": [
    "all_issues = {}\n",
    "all_pulls = {}\n",
    "total_commits = 0\n",
    "prj = f\"pysal/{package}\"\n",
    "issues = issues_closed_since(since, project=prj, pulls=False)\n",
    "pulls = issues_closed_since(since, project=prj, pulls=True)\n",
    "issues = sorted_by_field(issues, reverse=True)\n",
    "pulls = sorted_by_field(pulls, reverse=True)\n",
    "n_issues, n_pulls = map(len, (issues, pulls))\n",
    "n_total = n_issues + n_pulls"
   ]
  },
  {
   "cell_type": "code",
   "execution_count": null,
   "metadata": {
    "ExecuteTime": {
     "end_time": "2022-07-26T01:43:48.905734Z",
     "start_time": "2022-07-26T01:43:48.901814Z"
    }
   },
   "outputs": [],
   "source": [
    "issue_listing = []\n",
    "for issue in issues:\n",
    "    entry = f\"{issue['title']} (#{issue['number']})\"\n",
    "    issue_listing.append(entry)"
   ]
  },
  {
   "cell_type": "code",
   "execution_count": null,
   "metadata": {
    "ExecuteTime": {
     "end_time": "2022-07-26T01:43:56.851137Z",
     "start_time": "2022-07-26T01:43:56.843709Z"
    }
   },
   "outputs": [],
   "source": [
    "pull_listing = []\n",
    "for pull in pulls:\n",
    "    entry = f\"{pull['title']} (#{pull['number']})\"\n",
    "    pull_listing.append(entry)\n",
    "pull_listing"
   ]
  },
  {
   "cell_type": "code",
   "execution_count": null,
   "metadata": {
    "ExecuteTime": {
     "end_time": "2022-07-26T01:44:01.049631Z",
     "start_time": "2022-07-26T01:44:01.042273Z"
    }
   },
   "outputs": [],
   "source": [
    "message = (\n",
    "    f\"We closed a total of {n_total} issues (enhancements and bug fixes) \"\n",
    "    f\"through {n_pulls} pull requests, since our last release on {start_date}.\"\n",
    ")\n",
    "message += \"\\n\\n## Issues Closed\\n\"\n",
    "issues = \"\\n\".join([\"  - \" + issue for issue in issue_listing])\n",
    "message += issues\n",
    "message += \"\\n\\n## Pull Requests\\n\"\n",
    "pulls = \"\\n\".join([\"  - \" + pull for pull in pull_listing])\n",
    "message += pulls\n",
    "print(message)"
   ]
  },
  {
   "cell_type": "code",
   "execution_count": null,
   "metadata": {
    "ExecuteTime": {
     "end_time": "2022-07-26T01:44:06.197628Z",
     "start_time": "2022-07-26T01:44:06.191069Z"
    }
   },
   "outputs": [],
   "source": [
    "people = \"\\n\".join([\"  - \" + person for person in unique_authors])\n",
    "print(people)"
   ]
  },
  {
   "cell_type": "code",
   "execution_count": null,
   "metadata": {
    "ExecuteTime": {
     "end_time": "2022-07-26T01:44:12.228751Z",
     "start_time": "2022-07-26T01:44:12.223427Z"
    }
   },
   "outputs": [],
   "source": [
    "message += f\"\\n\\nThe following individuals contributed to this release:\\n\\n{people}\"\n",
    "print(message)"
   ]
  },
  {
   "cell_type": "code",
   "execution_count": null,
   "metadata": {
    "ExecuteTime": {
     "end_time": "2022-07-26T01:44:16.383360Z",
     "start_time": "2022-07-26T01:44:16.377967Z"
    }
   },
   "outputs": [],
   "source": [
    "head = f\"# Changes\\n\\nVersion {__version__} ({release_date})\\n\\n\"\n",
    "message = head + message\n",
    "print(message)"
   ]
  },
  {
   "cell_type": "code",
   "execution_count": null,
   "metadata": {
    "ExecuteTime": {
     "end_time": "2022-07-26T01:43:15.825364Z",
     "start_time": "2022-07-26T01:43:15.825350Z"
    }
   },
   "outputs": [],
   "source": [
    "outfile = f\"changelog_{__version__}.md\"\n",
    "with open(outfile, \"w\") as of:\n",
    "    of.write(message)"
   ]
  }
 ],
 "metadata": {
  "kernelspec": {
   "display_name": "Python [conda env:py310_spreg] *",
   "language": "python",
   "name": "conda-env-py310_spreg-py"
  },
  "language_info": {
   "codemirror_mode": {
    "name": "ipython",
    "version": 3
   },
   "file_extension": ".py",
   "mimetype": "text/x-python",
   "name": "python",
   "nbconvert_exporter": "python",
   "pygments_lexer": "ipython3",
   "version": "3.10.5"
  }
 },
 "nbformat": 4,
 "nbformat_minor": 4
}
