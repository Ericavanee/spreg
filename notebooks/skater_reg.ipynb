{
 "cells": [
  {
   "cell_type": "markdown",
   "id": "7a0ec787",
   "metadata": {},
   "source": [
    "# Skater Regression"
   ]
  },
  {
   "cell_type": "markdown",
   "id": "c6b1a7a6",
   "metadata": {},
   "source": [
    "### This notebook shows the use of the Skater Regression funcion (Skater_reg), introduced by Anselin & Amaral (2021). For more information on the method, check:\n",
    "https://www.researchgate.net/publication/353411566_Endogenous_Spatial_Regimes"
   ]
  },
  {
   "cell_type": "code",
   "execution_count": 1,
   "id": "0cf3e1c9",
   "metadata": {},
   "outputs": [],
   "source": [
    "# Required imports\n",
    "import libpysal as ps\n",
    "import numpy as np\n",
    "import spreg\n",
    "from spreg.skater_reg import Skater_reg"
   ]
  },
  {
   "cell_type": "code",
   "execution_count": 2,
   "id": "fc985f0e",
   "metadata": {},
   "outputs": [],
   "source": [
    "# Optional imports\n",
    "import geopandas as gpd\n",
    "import pandas as pd\n",
    "import plotly.express as px\n",
    "import plotly.graph_objects as go"
   ]
  },
  {
   "cell_type": "markdown",
   "id": "016e2fee",
   "metadata": {},
   "source": [
    "### To load the data, we can use pure PySAL or (Geo)Pandas\n",
    "### Data can be any discrete spatial objects such as points or polygons. Here we use Columbus for simplicity"
   ]
  },
  {
   "cell_type": "code",
   "execution_count": 3,
   "id": "aa613df6",
   "metadata": {},
   "outputs": [],
   "source": [
    "# Pure PySAL alternative\n",
    "data = ps.io.open(ps.examples.get_path('columbus.dbf'))\n",
    "y = np.array(data.by_col('HOVAL')).reshape((-1,1))\n",
    "x = np.array([data.by_col(name) for name in ['INC','CRIME']]).T\n",
    "w = ps.weights.Queen.from_shapefile(ps.examples.get_path(\"columbus.shp\"))"
   ]
  },
  {
   "cell_type": "code",
   "execution_count": 4,
   "id": "38581394",
   "metadata": {},
   "outputs": [],
   "source": [
    "# GeoPandas approach\n",
    "data = gpd.read_file(ps.examples.get_path('columbus.shp'))\n",
    "y = data['HOVAL'].to_numpy()\n",
    "x = data[['INC','CRIME']].to_numpy()\n",
    "w = ps.weights.Queen.from_dataframe(data)"
   ]
  },
  {
   "cell_type": "code",
   "execution_count": 5,
   "id": "9f3c2577",
   "metadata": {},
   "outputs": [
    {
     "data": {
      "text/plain": [
       "array([0, 0, 0, 0, 0, 1, 0, 0, 1, 1, 0, 0, 0, 0, 0, 0, 1, 2, 2, 1, 2, 0,\n",
       "       1, 2, 0, 0, 3, 3, 0, 0, 2, 1, 3, 2, 3, 2, 3, 0, 2, 1, 1, 2, 3, 3,\n",
       "       3, 2, 1, 3, 3], dtype=int32)"
      ]
     },
     "execution_count": 5,
     "metadata": {},
     "output_type": "execute_result"
    }
   ],
   "source": [
    "# Standardize the variables to be used to compute the minimum spanning tree (could add/remove any variable)\n",
    "x_std = (x - np.mean(x,axis=0)) / np.std(x,axis=0)\n",
    "\n",
    "# Call the Skater_reg method based on OLS\n",
    "results = Skater_reg().fit(4, w, x_std, {'reg':spreg.OLS,'y':y,'x':x}, quorum=10)\n",
    "\n",
    "# The cluster allocations from the final step are stored in the attribute current_labels_\n",
    "results.current_labels_"
   ]
  },
  {
   "cell_type": "markdown",
   "id": "ffec0fde",
   "metadata": {},
   "source": [
    "### Optionally, to see the decrease in the Sum of Squared Residuals (SSR), we can use the trace from Skater_reg to plot the SSR from each step"
   ]
  },
  {
   "cell_type": "code",
   "execution_count": null,
   "id": "4268a450",
   "metadata": {},
   "outputs": [],
   "source": [
    "trace = [results._trace[i][1][2] for i in range(1,len(results._trace))]\n",
    "fig = go.Figure(data=go.Scatter(x=list(range(2,len(trace)+2)), y=trace,mode='lines+markers',\n",
    "                               line=dict(color='black', width=2)))\n",
    "fig.update_layout(xaxis_title='Number of clusters',\n",
    "                   yaxis_title='Total sum of squared residuals')\n",
    "fig.show()"
   ]
  },
  {
   "cell_type": "markdown",
   "id": "87a89d99",
   "metadata": {},
   "source": [
    "### We can also plot the cluster allocations from the final step using the attribute current_labels_"
   ]
  },
  {
   "cell_type": "code",
   "execution_count": null,
   "id": "d49e24ef",
   "metadata": {},
   "outputs": [],
   "source": [
    "fig = px.choropleth(pd.concat([data,pd.Series(results.current_labels_.astype(str), name='cluster', index=data.index)], axis=1),\n",
    "                   geojson=data.geometry,\n",
    "                   locations=data.index,\n",
    "                   color=\"cluster\")\n",
    "fig.update_geos(fitbounds=\"locations\", visible=False)\n",
    "fig.show()"
   ]
  },
  {
   "cell_type": "markdown",
   "id": "117df368",
   "metadata": {},
   "source": [
    "### The trace can also be used to recall the cluster allocations from any intermediate step"
   ]
  },
  {
   "cell_type": "code",
   "execution_count": null,
   "id": "b9e8b2ff",
   "metadata": {},
   "outputs": [],
   "source": [
    "# _trace[k-1][0] contains the cluster allocation for k clusters.\n",
    "fig = px.choropleth(pd.concat([data,pd.Series(results._trace[2][0].astype(str), name='cluster', index=data.index)], axis=1),\n",
    "                   geojson=data.geometry,\n",
    "                   locations=data.index,\n",
    "                   color=\"cluster\")\n",
    "fig.update_geos(fitbounds=\"locations\", visible=False)\n",
    "fig.show()"
   ]
  },
  {
   "cell_type": "markdown",
   "id": "22af5529",
   "metadata": {},
   "source": [
    "### With the cluster allocations, we can call the Regimes methods in spreg to get the full regression results."
   ]
  },
  {
   "cell_type": "code",
   "execution_count": null,
   "id": "a10707cf",
   "metadata": {},
   "outputs": [],
   "source": [
    "reg = spreg.OLS_Regimes(y,x,\n",
    "      regimes=results.current_labels_, w=w, name_y=['HOVAL'], name_x=['INC','CRIME'], name_regimes='skater_reg')\n",
    "print(reg.summary)"
   ]
  },
  {
   "cell_type": "code",
   "execution_count": null,
   "id": "695141bb",
   "metadata": {},
   "outputs": [],
   "source": []
  }
 ],
 "metadata": {
  "kernelspec": {
   "display_name": "Python [conda env:myenv] *",
   "language": "python",
   "name": "conda-env-myenv-py"
  },
  "language_info": {
   "codemirror_mode": {
    "name": "ipython",
    "version": 3
   },
   "file_extension": ".py",
   "mimetype": "text/x-python",
   "name": "python",
   "nbconvert_exporter": "python",
   "pygments_lexer": "ipython3",
   "version": "3.6.10"
  }
 },
 "nbformat": 4,
 "nbformat_minor": 5
}
