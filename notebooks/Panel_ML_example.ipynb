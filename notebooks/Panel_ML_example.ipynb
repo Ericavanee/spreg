{
 "cells": [
  {
   "cell_type": "markdown",
   "metadata": {},
   "source": [
    "# Fixed Effects Panel - Spatial Lag Model\n",
    "\n",
    "This notebook replicates the results from **splm: Spatial Panel Data Models in R**, using the class `Panel_ML` from `pysal.spreg`."
   ]
  },
  {
   "cell_type": "code",
   "execution_count": 3,
   "metadata": {},
   "outputs": [],
   "source": [
    "import pandas as pd\n",
    "from libpysal.weights import full2W\n",
    "import spreg"
   ]
  },
  {
   "cell_type": "markdown",
   "metadata": {},
   "source": [
    "First, I need to read the demo dataset on cigarette demand."
   ]
  },
  {
   "cell_type": "code",
   "execution_count": 14,
   "metadata": {},
   "outputs": [],
   "source": [
    "df = pd.read_csv(\"cigardemo.txt\", sep=\"\\t\")\n",
    "df_w = pd.read_csv(\"spat-sym-us.txt\", sep=\"\\t\", header=None)"
   ]
  },
  {
   "cell_type": "markdown",
   "metadata": {},
   "source": [
    "In the model, the dependent variables is logarithm of real per capita sales of cigarettes. On the other hand, the independent variables are the logarithm of average retail price and real per capita income."
   ]
  },
  {
   "cell_type": "code",
   "execution_count": 16,
   "metadata": {},
   "outputs": [],
   "source": [
    "name_y = [\"logc\"]\n",
    "y = df[name_y].values\n",
    "\n",
    "name_x = [\"logp\", \"logpn\", \"logy\"]\n",
    "x = df[name_x].values\n",
    "\n",
    "w = full2W(df_w.values)\n",
    "w.transform = 'r'"
   ]
  },
  {
   "cell_type": "code",
   "execution_count": 17,
   "metadata": {},
   "outputs": [
    {
     "name": "stdout",
     "output_type": "stream",
     "text": [
      "Warning: Assuming time data is in long format, i.e. y[0:N] refersto T0, y[N+1:2N] refers to T1, etc. \n",
      " Similar for x.\n"
     ]
    },
    {
     "name": "stderr",
     "output_type": "stream",
     "text": [
      "C:\\Users\\pablo\\anaconda3\\lib\\site-packages\\scipy\\optimize\\_minimize.py:770: RuntimeWarning: Method 'bounded' does not support relative tolerance in x; defaulting to absolute tolerance.\n",
      "  \"defaulting to absolute tolerance.\", RuntimeWarning)\n"
     ]
    }
   ],
   "source": [
    "model = spreg.Panel_ML(y, x, w, method=\"lu\", name_y=name_y, name_x=name_x, name_ds=\"cigarretes\")"
   ]
  },
  {
   "cell_type": "code",
   "execution_count": 18,
   "metadata": {},
   "outputs": [
    {
     "name": "stdout",
     "output_type": "stream",
     "text": [
      "REGRESSION\n",
      "----------\n",
      "SUMMARY OF OUTPUT: MAXIMUM LIKELIHOOD FIXED EFFECTS PANEL - SPATIAL LAG\n",
      "-----------------------------------------------------------------------\n",
      "Data set            :  cigarretes\n",
      "Weights matrix      :     unknown\n",
      "Dependent Variable  :        logc                Number of Observations:         276\n",
      "Mean dependent var  :      0.0000                Number of Variables   :           3\n",
      "S.D. dependent var  :      0.0522                Degrees of Freedom    :         273\n",
      "Pseudo R-squared    :      0.4876\n",
      "Spatial Pseudo R-squared:  0.4511\n",
      "\n",
      "------------------------------------------------------------------------------------\n",
      "            Variable     Coefficient       Std.Error     z-Statistic     Probability\n",
      "------------------------------------------------------------------------------------\n",
      "                logp      -0.6086140       0.0481007     -12.6529193       0.0000000\n",
      "               logpn       0.2329033       0.0654691       3.5574539       0.0003745\n",
      "                logy       0.2947222       0.0382265       7.7099024       0.0000000\n",
      "              W_logc       0.1986476       0.0673908       2.9476939       0.0032015\n",
      "------------------------------------------------------------------------------------\n",
      "================================ END OF REPORT =====================================\n"
     ]
    }
   ],
   "source": [
    "print(model.summary)"
   ]
  },
  {
   "cell_type": "code",
   "execution_count": null,
   "metadata": {},
   "outputs": [],
   "source": []
  },
  {
   "cell_type": "markdown",
   "metadata": {},
   "source": [
    "## splm in R\n",
    "\n",
    "Here is the replication code from **splm: Spatial Panel Data Models in R**."
   ]
  },
  {
   "cell_type": "code",
   "execution_count": 16,
   "metadata": {},
   "outputs": [],
   "source": [
    "### load library\n",
    "library(\"splm\")\n",
    "\n",
    "### set options\n",
    "options(prompt = \"R> \",  continue = \"+ \", width = 70, useFancyQuotes = FALSE)"
   ]
  },
  {
   "cell_type": "code",
   "execution_count": 17,
   "metadata": {},
   "outputs": [],
   "source": [
    "## read data\n",
    "cigar <- read.table(\"cigardemo.txt\", header = TRUE)\n",
    "## set formula\n",
    "fm <- logc ~ logp + logpn + logy\n",
    "wcig <- as.matrix(read.table(\"spat-sym-us.txt\"))\n",
    "## standardization\n",
    "wcig <- wcig/apply(wcig, 1, sum)\n",
    "## make it a listw\n",
    "lwcig <- mat2listw(wcig)"
   ]
  },
  {
   "cell_type": "code",
   "execution_count": 18,
   "metadata": {},
   "outputs": [
    {
     "name": "stderr",
     "output_type": "stream",
     "text": [
      "Warning message:\n",
      "\"Function eigen_setup moved to the spatialreg package\"\n",
      "Warning message:\n",
      "\"Function do_ldet moved to the spatialreg package\"\n",
      "Warning message:\n",
      "\"Function do_ldet moved to the spatialreg package\"\n",
      "Warning message:\n",
      "\"Function do_ldet moved to the spatialreg package\"\n",
      "Warning message:\n",
      "\"Function do_ldet moved to the spatialreg package\"\n",
      "Warning message:\n",
      "\"Function do_ldet moved to the spatialreg package\"\n",
      "Warning message:\n",
      "\"Function do_ldet moved to the spatialreg package\"\n",
      "Warning message:\n",
      "\"Function do_ldet moved to the spatialreg package\"\n",
      "Warning message:\n",
      "\"Function do_ldet moved to the spatialreg package\"\n",
      "Warning message:\n",
      "\"Function do_ldet moved to the spatialreg package\"\n",
      "Warning message:\n",
      "\"Function do_ldet moved to the spatialreg package\"\n",
      "Warning message:\n",
      "\"Function do_ldet moved to the spatialreg package\"\n",
      "Warning message:\n",
      "\"Function do_ldet moved to the spatialreg package\"\n",
      "Warning message:\n",
      "\"Function do_ldet moved to the spatialreg package\"\n"
     ]
    }
   ],
   "source": [
    "## Fixed effects SAR\n",
    "sarfe <- spml(formula = fm, data = cigar, listw = lwcig, model = \"within\",\n",
    "              effect = \"individual\",\n",
    "              spatial.error = \"none\", lag = TRUE)"
   ]
  },
  {
   "cell_type": "code",
   "execution_count": 19,
   "metadata": {},
   "outputs": [
    {
     "data": {
      "text/plain": [
       "Spatial panel fixed effects lag model\n",
       " \n",
       "\n",
       "Call:\n",
       "spml(formula = fm, data = cigar, listw = lwcig, model = \"within\", \n",
       "    effect = \"individual\", lag = TRUE, spatial.error = \"none\")\n",
       "\n",
       "Residuals:\n",
       "       Min.     1st Qu.      Median     3rd Qu.        Max. \n",
       "-0.11014656 -0.02370245 -0.00094553  0.02382706  0.15797342 \n",
       "\n",
       "Spatial autoregressive coefficient:\n",
       "       Estimate Std. Error t-value Pr(>|t|)   \n",
       "lambda 0.198648   0.067391  2.9477 0.003202 **\n",
       "\n",
       "Coefficients:\n",
       "       Estimate Std. Error  t-value  Pr(>|t|)    \n",
       "logp  -0.608614   0.048101 -12.6529 < 2.2e-16 ***\n",
       "logpn  0.232903   0.065469   3.5575 0.0003745 ***\n",
       "logy   0.294722   0.038226   7.7099 1.259e-14 ***\n",
       "---\n",
       "Signif. codes:  0 '***' 0.001 '**' 0.01 '*' 0.05 '.' 0.1 ' ' 1\n"
      ]
     },
     "metadata": {},
     "output_type": "display_data"
    }
   ],
   "source": [
    "summary(sarfe)"
   ]
  },
  {
   "cell_type": "code",
   "execution_count": null,
   "metadata": {},
   "outputs": [],
   "source": []
  }
 ],
 "metadata": {
  "kernelspec": {
   "display_name": "R",
   "language": "R",
   "name": "ir"
  },
  "language_info": {
   "codemirror_mode": "r",
   "file_extension": ".r",
   "mimetype": "text/x-r-source",
   "name": "R",
   "pygments_lexer": "r",
   "version": "4.0.1"
  }
 },
 "nbformat": 4,
 "nbformat_minor": 4
}
