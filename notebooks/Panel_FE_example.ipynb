{
 "cells": [
  {
   "cell_type": "markdown",
   "metadata": {},
   "source": [
    "# Spatial Panel Models with Fixed Effects\n",
    "\n",
    "This notebook uses the class `Panel_FE_Lag` and `Panel_FE_Error` from `pysal.spreg`."
   ]
  },
  {
   "cell_type": "code",
   "execution_count": 1,
   "metadata": {},
   "outputs": [],
   "source": [
    "%load_ext autoreload\n",
    "%autoreload 2\n",
    "\n",
    "import numpy as np\n",
    "import libpysal\n",
    "import spreg"
   ]
  },
  {
   "cell_type": "markdown",
   "metadata": {},
   "source": [
    "Open data on NCOVR US County Homicides (3085 areas). First, extract the HR (homicide rates) data in the 70's, 80's and 90's as the dependent variable.Data can also be passed in the long format instead of wide format (i.e. a vector with $n \\times t$ rows and a single column for the dependent variable and a matrix of dimension $n \\times (t \\ast k)$ for the independent variables). Then, extract RD and PS as independent variables in the regression."
   ]
  },
  {
   "cell_type": "code",
   "execution_count": 2,
   "metadata": {},
   "outputs": [],
   "source": [
    "# Open data on NCOVR US County Homicides (3085 areas).\n",
    "nat = libpysal.examples.load_example(\"NCOVR\")\n",
    "db = libpysal.io.open(nat.get_path(\"NAT.dbf\"), \"r\")\n",
    "# Create spatial weight matrix\n",
    "nat_shp = libpysal.examples.get_path(\"NAT.shp\")\n",
    "w = libpysal.weights.Queen.from_shapefile(nat_shp)\n",
    "w.transform = 'r'\n",
    "# Define dependent variable\n",
    "name_y = [\"HR70\", \"HR80\", \"HR90\"]\n",
    "y = np.array([db.by_col(name) for name in name_y]).T\n",
    "# Define independent variables\n",
    "name_x = [\"RD70\", \"RD80\", \"RD90\", \"PS70\", \"PS80\", \"PS90\"]\n",
    "x = np.array([db.by_col(name) for name in name_x]).T"
   ]
  },
  {
   "cell_type": "markdown",
   "metadata": {},
   "source": [
    "### Spatial Lag model\n",
    "\n",
    "Let's estimate a spatial lag panel model with fixed effects:\n",
    "\n",
    "$$\n",
    "y = \\rho Wy + X\\beta + \\mu_i + e\n",
    "$$"
   ]
  },
  {
   "cell_type": "code",
   "execution_count": 3,
   "metadata": {},
   "outputs": [
    {
     "name": "stdout",
     "output_type": "stream",
     "text": [
      "Warning: Assuming panel is in wide format, i.e. y[:, 0] refers to T0, y[:, 1] refers to T1, etc.\n",
      "Similarly, assuming x[:, 0:T] refers to T periods of k1, x[:, T+1:2T] refers to k2, etc.\n"
     ]
    }
   ],
   "source": [
    "fe_lag = spreg.Panel_FE_Lag(y, x, w, name_y=name_y, name_x=name_x, name_ds=\"NAT\")"
   ]
  },
  {
   "cell_type": "code",
   "execution_count": 4,
   "metadata": {},
   "outputs": [
    {
     "name": "stdout",
     "output_type": "stream",
     "text": [
      "REGRESSION\n",
      "----------\n",
      "SUMMARY OF OUTPUT: MAXIMUM LIKELIHOOD SPATIAL LAG PANEL - FIXED EFFECTS\n",
      "-----------------------------------------------------------------------\n",
      "Data set            :         NAT\n",
      "Weights matrix      :     unknown\n",
      "Dependent Variable  :          HR                Number of Observations:        9255\n",
      "Mean dependent var  :      0.0000                Number of Variables   :           3\n",
      "S.D. dependent var  :      3.9228                Degrees of Freedom    :        9252\n",
      "Pseudo R-squared    :      0.0319\n",
      "Spatial Pseudo R-squared:  0.0079\n",
      "Sigma-square ML     :      14.935                Log likelihood        :  -67936.533\n",
      "S.E of regression   :       3.865                Akaike info criterion :  135879.066\n",
      "                                                 Schwarz criterion     :  135900.465\n",
      "\n",
      "------------------------------------------------------------------------------------\n",
      "            Variable     Coefficient       Std.Error     z-Statistic     Probability\n",
      "------------------------------------------------------------------------------------\n",
      "                  RD       0.8005886       0.1614474       4.9588189       0.0000007\n",
      "                  PS      -2.6003523       0.4935486      -5.2686851       0.0000001\n",
      "                W_HR       0.1903043       0.0159991      11.8947008       0.0000000\n",
      "------------------------------------------------------------------------------------\n",
      "================================ END OF REPORT =====================================\n"
     ]
    }
   ],
   "source": [
    "print(fe_lag.summary)"
   ]
  },
  {
   "cell_type": "code",
   "execution_count": 5,
   "metadata": {},
   "outputs": [
    {
     "data": {
      "text/plain": [
       "array([[ 0.8006],\n",
       "       [-2.6004],\n",
       "       [ 0.1903]])"
      ]
     },
     "execution_count": 5,
     "metadata": {},
     "output_type": "execute_result"
    }
   ],
   "source": [
    "np.around(fe_lag.betas, decimals=4)"
   ]
  },
  {
   "cell_type": "markdown",
   "metadata": {},
   "source": [
    "### Spatial Error model\n",
    "\n",
    "Now, let's estimate a spatial error panel model with fixed effects:\n",
    "\n",
    "$$\n",
    "y = X\\beta + \\mu_i + v\n",
    "$$\n",
    "\n",
    "where\n",
    "\n",
    "$$\n",
    "v = \\lambda W v + e\n",
    "$$"
   ]
  },
  {
   "cell_type": "code",
   "execution_count": 6,
   "metadata": {},
   "outputs": [
    {
     "name": "stdout",
     "output_type": "stream",
     "text": [
      "Warning: Assuming panel is in wide format, i.e. y[:, 0] refers to T0, y[:, 1] refers to T1, etc.\n",
      "Similarly, assuming x[:, 0:T] refers to T periods of k1, x[:, T+1:2T] refers to k2, etc.\n"
     ]
    }
   ],
   "source": [
    "fe_error = spreg.Panel_FE_Error(y, x, w, name_y=name_y, name_x=name_x, name_ds=\"NAT\")"
   ]
  },
  {
   "cell_type": "code",
   "execution_count": 7,
   "metadata": {},
   "outputs": [
    {
     "name": "stdout",
     "output_type": "stream",
     "text": [
      "REGRESSION\n",
      "----------\n",
      "SUMMARY OF OUTPUT: MAXIMUM LIKELIHOOD SPATIAL ERROR PANEL - FIXED EFFECTS\n",
      "-------------------------------------------------------------------------\n",
      "Data set            :         NAT\n",
      "Weights matrix      :     unknown\n",
      "Dependent Variable  :          HR                Number of Observations:        9255\n",
      "Mean dependent var  :      0.0000                Number of Variables   :           2\n",
      "S.D. dependent var  :      3.9228                Degrees of Freedom    :        9253\n",
      "Pseudo R-squared    :      0.0000\n",
      "Sigma-square ML     :      68.951                Log likelihood        :  -67934.005\n",
      "S.E of regression   :       8.304                Akaike info criterion :  135872.010\n",
      "                                                 Schwarz criterion     :  135886.276\n",
      "\n",
      "------------------------------------------------------------------------------------\n",
      "            Variable     Coefficient       Std.Error     z-Statistic     Probability\n",
      "------------------------------------------------------------------------------------\n",
      "                  RD       0.8697923       0.3692968       2.3552662       0.0185094\n",
      "                  PS      -2.9660674       1.1703765      -2.5342849       0.0112677\n",
      "              lambda       0.1943460       0.0160253      12.1274197       0.0000000\n",
      "------------------------------------------------------------------------------------\n",
      "================================ END OF REPORT =====================================\n"
     ]
    }
   ],
   "source": [
    "print(fe_error.summary)"
   ]
  },
  {
   "cell_type": "code",
   "execution_count": 8,
   "metadata": {},
   "outputs": [
    {
     "data": {
      "text/plain": [
       "array([[ 0.8698],\n",
       "       [-2.9661],\n",
       "       [ 0.1943]])"
      ]
     },
     "execution_count": 8,
     "metadata": {},
     "output_type": "execute_result"
    }
   ],
   "source": [
    "np.around(fe_error.betas, decimals=4)"
   ]
  },
  {
   "cell_type": "code",
   "execution_count": null,
   "metadata": {},
   "outputs": [],
   "source": []
  }
 ],
 "metadata": {
  "kernelspec": {
   "display_name": "Python 3",
   "language": "python",
   "name": "python3"
  },
  "language_info": {
   "codemirror_mode": {
    "name": "ipython",
    "version": 3
   },
   "file_extension": ".py",
   "mimetype": "text/x-python",
   "name": "python",
   "nbconvert_exporter": "python",
   "pygments_lexer": "ipython3",
   "version": "3.7.6"
  }
 },
 "nbformat": 4,
 "nbformat_minor": 4
}
