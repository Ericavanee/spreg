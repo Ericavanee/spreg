{
 "cells": [
  {
   "cell_type": "markdown",
   "metadata": {},
   "source": [
    "This is just supposed to demonstrate the functionality of the handler written for spreg. "
   ]
  },
  {
   "cell_type": "markdown",
   "metadata": {},
   "source": [
    "Essentially, it provides a unified interface to apply the correct function to data, allowing it to serve as the single point of access for a patsy/pandas interface handler. \n",
    "\n",
    "First, let's set up."
   ]
  },
  {
   "cell_type": "code",
   "execution_count": 1,
   "metadata": {
    "collapsed": true
   },
   "outputs": [],
   "source": [
    "import handler as h\n",
    "import pysal as ps\n",
    "import geopandas as gpd"
   ]
  },
  {
   "cell_type": "code",
   "execution_count": 4,
   "metadata": {
    "collapsed": false
   },
   "outputs": [],
   "source": [
    "df = gpd.read_file(ps.examples.get_path('columbus.json'))\n",
    "dbf = ps.open(ps.examples.get_path('columbus.dbf'))\n",
    "y = dbf.by_col_array(['HOVAL'])\n",
    "X = dbf.by_col_array(['INC', 'CRIME'])\n",
    "W = ps.open(ps.examples.get_path('columbus.gal')).read()"
   ]
  },
  {
   "cell_type": "code",
   "execution_count": 10,
   "metadata": {
    "collapsed": true
   },
   "outputs": [],
   "source": [
    "original = ps.spreg.OLS(y,X,W, name_x=['INC', 'CRIME'], name_y='HOVAL')"
   ]
  },
  {
   "cell_type": "code",
   "execution_count": 12,
   "metadata": {
    "collapsed": false
   },
   "outputs": [],
   "source": [
    "handled = h.Model(y,X,W,name_x=['INC', 'CRIME'], name_y='HOVAL')"
   ]
  },
  {
   "cell_type": "code",
   "execution_count": 13,
   "metadata": {
    "collapsed": false
   },
   "outputs": [
    {
     "name": "stdout",
     "output_type": "stream",
     "text": [
      "REGRESSION\n",
      "----------\n",
      "SUMMARY OF OUTPUT: ORDINARY LEAST SQUARES\n",
      "-----------------------------------------\n",
      "Data set            :     unknown\n",
      "Weights matrix      :     unknown\n",
      "Dependent Variable  :       HOVAL                Number of Observations:          49\n",
      "Mean dependent var  :     38.4362                Number of Variables   :           3\n",
      "S.D. dependent var  :     18.4661                Degrees of Freedom    :          46\n",
      "R-squared           :      0.3495\n",
      "Adjusted R-squared  :      0.3212\n",
      "Sum squared residual:   10647.015                F-statistic           :     12.3582\n",
      "Sigma-square        :     231.457                Prob(F-statistic)     :   5.064e-05\n",
      "S.E. of regression  :      15.214                Log likelihood        :    -201.368\n",
      "Sigma-square ML     :     217.286                Akaike info criterion :     408.735\n",
      "S.E of regression ML:     14.7406                Schwarz criterion     :     414.411\n",
      "\n",
      "------------------------------------------------------------------------------------\n",
      "            Variable     Coefficient       Std.Error     t-Statistic     Probability\n",
      "------------------------------------------------------------------------------------\n",
      "            CONSTANT      46.4281827      13.1917570       3.5194844       0.0009867\n",
      "               CRIME      -0.4848885       0.1826729      -2.6544086       0.0108745\n",
      "                 INC       0.6289840       0.5359104       1.1736736       0.2465669\n",
      "------------------------------------------------------------------------------------\n",
      "\n",
      "REGRESSION DIAGNOSTICS\n",
      "MULTICOLLINEARITY CONDITION NUMBER           12.538\n",
      "\n",
      "TEST ON NORMALITY OF ERRORS\n",
      "TEST                             DF        VALUE           PROB\n",
      "Jarque-Bera                       2          39.706           0.0000\n",
      "\n",
      "DIAGNOSTICS FOR HETEROSKEDASTICITY\n",
      "RANDOM COEFFICIENTS\n",
      "TEST                             DF        VALUE           PROB\n",
      "Breusch-Pagan test                2           5.767           0.0559\n",
      "Koenker-Bassett test              2           2.270           0.3214\n",
      "================================ END OF REPORT =====================================\n"
     ]
    }
   ],
   "source": [
    "print(original.summary)"
   ]
  },
  {
   "cell_type": "code",
   "execution_count": 14,
   "metadata": {
    "collapsed": false
   },
   "outputs": [
    {
     "name": "stdout",
     "output_type": "stream",
     "text": [
      "REGRESSION\n",
      "----------\n",
      "SUMMARY OF OUTPUT: ORDINARY LEAST SQUARES\n",
      "-----------------------------------------\n",
      "Data set            :     unknown\n",
      "Weights matrix      :     unknown\n",
      "Dependent Variable  :       HOVAL                Number of Observations:          49\n",
      "Mean dependent var  :     38.4362                Number of Variables   :           3\n",
      "S.D. dependent var  :     18.4661                Degrees of Freedom    :          46\n",
      "R-squared           :      0.3495\n",
      "Adjusted R-squared  :      0.3212\n",
      "Sum squared residual:   10647.015                F-statistic           :     12.3582\n",
      "Sigma-square        :     231.457                Prob(F-statistic)     :   5.064e-05\n",
      "S.E. of regression  :      15.214                Log likelihood        :    -201.368\n",
      "Sigma-square ML     :     217.286                Akaike info criterion :     408.735\n",
      "S.E of regression ML:     14.7406                Schwarz criterion     :     414.411\n",
      "\n",
      "------------------------------------------------------------------------------------\n",
      "            Variable     Coefficient       Std.Error     t-Statistic     Probability\n",
      "------------------------------------------------------------------------------------\n",
      "            CONSTANT      46.4281827      13.1917570       3.5194844       0.0009867\n",
      "               CRIME      -0.4848885       0.1826729      -2.6544086       0.0108745\n",
      "                 INC       0.6289840       0.5359104       1.1736736       0.2465669\n",
      "------------------------------------------------------------------------------------\n",
      "\n",
      "REGRESSION DIAGNOSTICS\n",
      "MULTICOLLINEARITY CONDITION NUMBER           12.538\n",
      "\n",
      "TEST ON NORMALITY OF ERRORS\n",
      "TEST                             DF        VALUE           PROB\n",
      "Jarque-Bera                       2          39.706           0.0000\n",
      "\n",
      "DIAGNOSTICS FOR HETEROSKEDASTICITY\n",
      "RANDOM COEFFICIENTS\n",
      "TEST                             DF        VALUE           PROB\n",
      "Breusch-Pagan test                2           5.767           0.0559\n",
      "Koenker-Bassett test              2           2.270           0.3214\n",
      "================================ END OF REPORT =====================================\n"
     ]
    }
   ],
   "source": [
    "print(handled.summary)"
   ]
  },
  {
   "cell_type": "markdown",
   "metadata": {},
   "source": [
    "So, there's really not a difference here. I'm trying to swap in testing for the handlers. In fact, the \"real\" model sits under `handled._called`, so, at worst, we can just reference aspects of `handled` down to `_called`. I do this by iterating through `dir(handled_called)`, but there's probably a more elegant way to do that. \n",
    "\n",
    "In addition, all the stuff the actual \"model\" class uses to interpret the arguments that are passed down to the underlying estimators is parsed *around* then model. So, it dispatches the arguments to the specified model type without knowing any special information about the function call. \n",
    "\n",
    "This means we can do some pretty cool things, while keeping the actual wrapper at ~30 LoC"
   ]
  },
  {
   "cell_type": "code",
   "execution_count": 15,
   "metadata": {
    "collapsed": false
   },
   "outputs": [
    {
     "name": "stderr",
     "output_type": "stream",
     "text": [
      "/home/ljw/.local/lib/python2.7/site-packages/scipy/optimize/_minimize.py:593: RuntimeWarning: Method 'bounded' does not support relative tolerance in x; defaulting to absolute tolerance.\n",
      "  \"defaulting to absolute tolerance.\", RuntimeWarning)\n"
     ]
    }
   ],
   "source": [
    "ML = ps.spreg.ML_Lag(y,X,W)"
   ]
  },
  {
   "cell_type": "code",
   "execution_count": 16,
   "metadata": {
    "collapsed": true
   },
   "outputs": [],
   "source": [
    "handled_ML = h.Model(y,X,W,mtype='ML_Lag')"
   ]
  },
  {
   "cell_type": "code",
   "execution_count": 17,
   "metadata": {
    "collapsed": false
   },
   "outputs": [
    {
     "name": "stdout",
     "output_type": "stream",
     "text": [
      "REGRESSION\n",
      "----------\n",
      "SUMMARY OF OUTPUT: MAXIMUM LIKELIHOOD SPATIAL LAG (METHOD = FULL)\n",
      "-----------------------------------------------------------------\n",
      "Data set            :     unknown\n",
      "Weights matrix      :     unknown\n",
      "Dependent Variable  :     dep_var                Number of Observations:          49\n",
      "Mean dependent var  :     38.4362                Number of Variables   :           4\n",
      "S.D. dependent var  :     18.4661                Degrees of Freedom    :          45\n",
      "Pseudo R-squared    :      0.3639\n",
      "Spatial Pseudo R-squared:  0.3384\n",
      "Sigma-square ML     :     212.490                Log likelihood        :    -200.903\n",
      "S.E of regression   :      14.577                Akaike info criterion :     409.807\n",
      "                                                 Schwarz criterion     :     417.374\n",
      "\n",
      "------------------------------------------------------------------------------------\n",
      "            Variable     Coefficient       Std.Error     z-Statistic     Probability\n",
      "------------------------------------------------------------------------------------\n",
      "            CONSTANT      44.1882822      12.9020363       3.4249076       0.0006150\n",
      "           W_dep_var       0.0259466       0.0262601       0.9880621       0.3231223\n",
      "               var_1       0.5453705       0.5209327       1.0469117       0.2951403\n",
      "               var_2      -0.5186558       0.1768050      -2.9334902       0.0033517\n",
      "------------------------------------------------------------------------------------\n",
      "================================ END OF REPORT =====================================\n"
     ]
    }
   ],
   "source": [
    "print(ML.summary)"
   ]
  },
  {
   "cell_type": "code",
   "execution_count": 18,
   "metadata": {
    "collapsed": false
   },
   "outputs": [
    {
     "name": "stdout",
     "output_type": "stream",
     "text": [
      "REGRESSION\n",
      "----------\n",
      "SUMMARY OF OUTPUT: MAXIMUM LIKELIHOOD SPATIAL LAG (METHOD = FULL)\n",
      "-----------------------------------------------------------------\n",
      "Data set            :     unknown\n",
      "Weights matrix      :     unknown\n",
      "Dependent Variable  :     dep_var                Number of Observations:          49\n",
      "Mean dependent var  :     38.4362                Number of Variables   :           4\n",
      "S.D. dependent var  :     18.4661                Degrees of Freedom    :          45\n",
      "Pseudo R-squared    :      0.3639\n",
      "Spatial Pseudo R-squared:  0.3384\n",
      "Sigma-square ML     :     212.490                Log likelihood        :    -200.903\n",
      "S.E of regression   :      14.577                Akaike info criterion :     409.807\n",
      "                                                 Schwarz criterion     :     417.374\n",
      "\n",
      "------------------------------------------------------------------------------------\n",
      "            Variable     Coefficient       Std.Error     z-Statistic     Probability\n",
      "------------------------------------------------------------------------------------\n",
      "            CONSTANT      44.1882822      12.9020363       3.4249076       0.0006150\n",
      "           W_dep_var       0.0259466       0.0262601       0.9880621       0.3231223\n",
      "               var_1       0.5453705       0.5209327       1.0469117       0.2951403\n",
      "               var_2      -0.5186558       0.1768050      -2.9334902       0.0033517\n",
      "------------------------------------------------------------------------------------\n",
      "================================ END OF REPORT =====================================\n"
     ]
    }
   ],
   "source": [
    "print(handled_ML.summary)"
   ]
  },
  {
   "cell_type": "markdown",
   "metadata": {},
   "source": [
    "### Intercepting formulas"
   ]
  },
  {
   "cell_type": "markdown",
   "metadata": {},
   "source": [
    "So, this is pretty neat, but gives us nothing above using *one* function to dispatch models. That's cool and R-like, but it's not necessarly better. Where it does add functionality is in its ability to intercept model formulas."
   ]
  },
  {
   "cell_type": "code",
   "execution_count": 19,
   "metadata": {
    "collapsed": true
   },
   "outputs": [],
   "source": [
    "handled_eq = h.Model(\"HOVAL ~ INC + CRIME\", data=df)"
   ]
  },
  {
   "cell_type": "code",
   "execution_count": 21,
   "metadata": {
    "collapsed": false,
    "scrolled": false
   },
   "outputs": [
    {
     "name": "stdout",
     "output_type": "stream",
     "text": [
      "REGRESSION\n",
      "----------\n",
      "SUMMARY OF OUTPUT: ORDINARY LEAST SQUARES\n",
      "-----------------------------------------\n",
      "Data set            :     unknown\n",
      "Dependent Variable  :     dep_var                Number of Observations:          49\n",
      "Mean dependent var  :     38.4362                Number of Variables   :           3\n",
      "S.D. dependent var  :     18.4661                Degrees of Freedom    :          46\n",
      "R-squared           :      0.3495\n",
      "Adjusted R-squared  :      0.3212\n",
      "Sum squared residual:   10647.015                F-statistic           :     12.3582\n",
      "Sigma-square        :     231.457                Prob(F-statistic)     :   5.064e-05\n",
      "S.E. of regression  :      15.214                Log likelihood        :    -201.368\n",
      "Sigma-square ML     :     217.286                Akaike info criterion :     408.735\n",
      "S.E of regression ML:     14.7406                Schwarz criterion     :     414.411\n",
      "\n",
      "------------------------------------------------------------------------------------\n",
      "            Variable     Coefficient       Std.Error     t-Statistic     Probability\n",
      "------------------------------------------------------------------------------------\n",
      "            CONSTANT      46.4281827      13.1917570       3.5194844       0.0009867\n",
      "               var_1       0.6289840       0.5359104       1.1736736       0.2465669\n",
      "               var_2      -0.4848885       0.1826729      -2.6544086       0.0108745\n",
      "------------------------------------------------------------------------------------\n",
      "\n",
      "REGRESSION DIAGNOSTICS\n",
      "MULTICOLLINEARITY CONDITION NUMBER           12.538\n",
      "\n",
      "TEST ON NORMALITY OF ERRORS\n",
      "TEST                             DF        VALUE           PROB\n",
      "Jarque-Bera                       2          39.706           0.0000\n",
      "\n",
      "DIAGNOSTICS FOR HETEROSKEDASTICITY\n",
      "RANDOM COEFFICIENTS\n",
      "TEST                             DF        VALUE           PROB\n",
      "Breusch-Pagan test                2           5.767           0.0559\n",
      "Koenker-Bassett test              2           2.270           0.3214\n",
      "================================ END OF REPORT =====================================\n"
     ]
    }
   ],
   "source": [
    "print(handled_eq.summary)"
   ]
  },
  {
   "cell_type": "code",
   "execution_count": 22,
   "metadata": {
    "collapsed": false
   },
   "outputs": [
    {
     "name": "stdout",
     "output_type": "stream",
     "text": [
      "REGRESSION\n",
      "----------\n",
      "SUMMARY OF OUTPUT: ORDINARY LEAST SQUARES\n",
      "-----------------------------------------\n",
      "Data set            :     unknown\n",
      "Weights matrix      :     unknown\n",
      "Dependent Variable  :       HOVAL                Number of Observations:          49\n",
      "Mean dependent var  :     38.4362                Number of Variables   :           3\n",
      "S.D. dependent var  :     18.4661                Degrees of Freedom    :          46\n",
      "R-squared           :      0.3495\n",
      "Adjusted R-squared  :      0.3212\n",
      "Sum squared residual:   10647.015                F-statistic           :     12.3582\n",
      "Sigma-square        :     231.457                Prob(F-statistic)     :   5.064e-05\n",
      "S.E. of regression  :      15.214                Log likelihood        :    -201.368\n",
      "Sigma-square ML     :     217.286                Akaike info criterion :     408.735\n",
      "S.E of regression ML:     14.7406                Schwarz criterion     :     414.411\n",
      "\n",
      "------------------------------------------------------------------------------------\n",
      "            Variable     Coefficient       Std.Error     t-Statistic     Probability\n",
      "------------------------------------------------------------------------------------\n",
      "            CONSTANT      46.4281827      13.1917570       3.5194844       0.0009867\n",
      "               CRIME      -0.4848885       0.1826729      -2.6544086       0.0108745\n",
      "                 INC       0.6289840       0.5359104       1.1736736       0.2465669\n",
      "------------------------------------------------------------------------------------\n",
      "\n",
      "REGRESSION DIAGNOSTICS\n",
      "MULTICOLLINEARITY CONDITION NUMBER           12.538\n",
      "\n",
      "TEST ON NORMALITY OF ERRORS\n",
      "TEST                             DF        VALUE           PROB\n",
      "Jarque-Bera                       2          39.706           0.0000\n",
      "\n",
      "DIAGNOSTICS FOR HETEROSKEDASTICITY\n",
      "RANDOM COEFFICIENTS\n",
      "TEST                             DF        VALUE           PROB\n",
      "Breusch-Pagan test                2           5.767           0.0559\n",
      "Koenker-Bassett test              2           2.270           0.3214\n",
      "================================ END OF REPORT =====================================\n"
     ]
    }
   ],
   "source": [
    "print(handled.summary)"
   ]
  },
  {
   "cell_type": "markdown",
   "metadata": {},
   "source": [
    "That means `HOVAL`, `CRIME`, and `INC` all get drawn out of the dataframe using patsy and pushed into arrays. This works for any class, since we're just turning the equations into their consituent arrays. \n",
    "\n",
    "Where there is a possible bikeshedding point is over the syntax for TSLS-type models. Right now, I have is specified in this way:"
   ]
  },
  {
   "cell_type": "code",
   "execution_count": 23,
   "metadata": {
    "collapsed": true
   },
   "outputs": [],
   "source": [
    "y = dbf.by_col_array(['CRIME'])\n",
    "X = dbf.by_col_array(['INC'])\n",
    "yend = dbf.by_col_array(['HOVAL'])\n",
    "q = dbf.by_col_array(['DISCBD'])"
   ]
  },
  {
   "cell_type": "code",
   "execution_count": 25,
   "metadata": {
    "collapsed": false
   },
   "outputs": [],
   "source": [
    "tsls = ps.spreg.TSLS(y,X,yend,q,W)"
   ]
  },
  {
   "cell_type": "code",
   "execution_count": 26,
   "metadata": {
    "collapsed": true
   },
   "outputs": [],
   "source": [
    "handledtsls = h.Model(y,X,yend,q,W,mtype='TSLS')"
   ]
  },
  {
   "cell_type": "code",
   "execution_count": 30,
   "metadata": {
    "collapsed": false
   },
   "outputs": [],
   "source": [
    "handledtsls_eq = h.Model(\"CRIME ~ INC || HOVAL ~ DISCBD\", W, data=df, mtype='TSLS')"
   ]
  },
  {
   "cell_type": "code",
   "execution_count": 33,
   "metadata": {
    "collapsed": false
   },
   "outputs": [
    {
     "name": "stdout",
     "output_type": "stream",
     "text": [
      "REGRESSION\n",
      "----------\n",
      "SUMMARY OF OUTPUT: TWO STAGE LEAST SQUARES\n",
      "------------------------------------------\n",
      "Data set            :     unknown\n",
      "Weights matrix      :     unknown\n",
      "Dependent Variable  :     dep_var                Number of Observations:          49\n",
      "Mean dependent var  :     35.1288                Number of Variables   :           3\n",
      "S.D. dependent var  :     16.7321                Degrees of Freedom    :          46\n",
      "Pseudo R-squared    :      0.2794\n",
      "\n",
      "------------------------------------------------------------------------------------\n",
      "            Variable     Coefficient       Std.Error     z-Statistic     Probability\n",
      "------------------------------------------------------------------------------------\n",
      "            CONSTANT      88.4657958      15.1346096       5.8452645       0.0000000\n",
      "        endogenous_1      -1.5821659       0.7931892      -1.9946891       0.0460768\n",
      "               var_1       0.5200379       1.4146781       0.3676016       0.7131703\n",
      "------------------------------------------------------------------------------------\n",
      "Instrumented: endogenous_1\n",
      "Instruments: instrument_1\n",
      "================================ END OF REPORT =====================================\n"
     ]
    }
   ],
   "source": [
    "print(tsls.summary)"
   ]
  },
  {
   "cell_type": "code",
   "execution_count": 34,
   "metadata": {
    "collapsed": false
   },
   "outputs": [
    {
     "name": "stdout",
     "output_type": "stream",
     "text": [
      "REGRESSION\n",
      "----------\n",
      "SUMMARY OF OUTPUT: TWO STAGE LEAST SQUARES\n",
      "------------------------------------------\n",
      "Data set            :     unknown\n",
      "Weights matrix      :     unknown\n",
      "Dependent Variable  :     dep_var                Number of Observations:          49\n",
      "Mean dependent var  :     35.1288                Number of Variables   :           3\n",
      "S.D. dependent var  :     16.7321                Degrees of Freedom    :          46\n",
      "Pseudo R-squared    :      0.2794\n",
      "\n",
      "------------------------------------------------------------------------------------\n",
      "            Variable     Coefficient       Std.Error     z-Statistic     Probability\n",
      "------------------------------------------------------------------------------------\n",
      "            CONSTANT      88.4657958      15.1346096       5.8452645       0.0000000\n",
      "        endogenous_1      -1.5821659       0.7931892      -1.9946891       0.0460768\n",
      "               var_1       0.5200379       1.4146781       0.3676016       0.7131703\n",
      "------------------------------------------------------------------------------------\n",
      "Instrumented: endogenous_1\n",
      "Instruments: instrument_1\n",
      "================================ END OF REPORT =====================================\n"
     ]
    }
   ],
   "source": [
    "print(handledtsls.summary)"
   ]
  },
  {
   "cell_type": "code",
   "execution_count": 35,
   "metadata": {
    "collapsed": false
   },
   "outputs": [
    {
     "name": "stdout",
     "output_type": "stream",
     "text": [
      "REGRESSION\n",
      "----------\n",
      "SUMMARY OF OUTPUT: TWO STAGE LEAST SQUARES\n",
      "------------------------------------------\n",
      "Data set            :     unknown\n",
      "Weights matrix      :     unknown\n",
      "Dependent Variable  :     dep_var                Number of Observations:          49\n",
      "Mean dependent var  :     35.1288                Number of Variables   :           3\n",
      "S.D. dependent var  :     16.7321                Degrees of Freedom    :          46\n",
      "Pseudo R-squared    :      0.2794\n",
      "\n",
      "------------------------------------------------------------------------------------\n",
      "            Variable     Coefficient       Std.Error     z-Statistic     Probability\n",
      "------------------------------------------------------------------------------------\n",
      "            CONSTANT      88.4657958      15.1346096       5.8452645       0.0000000\n",
      "        endogenous_1      -1.5821659       0.7931892      -1.9946891       0.0460768\n",
      "               var_1       0.5200379       1.4146781       0.3676016       0.7131703\n",
      "------------------------------------------------------------------------------------\n",
      "Instrumented: endogenous_1\n",
      "Instruments: instrument_1\n",
      "================================ END OF REPORT =====================================\n"
     ]
    }
   ],
   "source": [
    "print(handledtsls_eq.summary)"
   ]
  },
  {
   "cell_type": "markdown",
   "metadata": {},
   "source": [
    "Unfortunately, this leads us down an interesting road, as far as semantics are concerned: "
   ]
  },
  {
   "cell_type": "code",
   "execution_count": 36,
   "metadata": {
    "collapsed": true
   },
   "outputs": [],
   "source": [
    "handledtsls_ignored = h.Model(\"CRIME ~ INC || HOVAL ~ DISCBD\",'getsignored', W, 'getsignoredtoo', data=df, mtype='GM_Lag')"
   ]
  },
  {
   "cell_type": "code",
   "execution_count": 37,
   "metadata": {
    "collapsed": false
   },
   "outputs": [
    {
     "name": "stdout",
     "output_type": "stream",
     "text": [
      "REGRESSION\n",
      "----------\n",
      "SUMMARY OF OUTPUT: SPATIAL TWO STAGE LEAST SQUARES\n",
      "--------------------------------------------------\n",
      "Data set            :     unknown\n",
      "Weights matrix      :     unknown\n",
      "Dependent Variable  :     dep_var                Number of Observations:          49\n",
      "Mean dependent var  :     35.1288                Number of Variables   :           4\n",
      "S.D. dependent var  :     16.7321                Degrees of Freedom    :          45\n",
      "Pseudo R-squared    :      0.2377\n",
      "Spatial Pseudo R-squared:  0.2477\n",
      "\n",
      "------------------------------------------------------------------------------------\n",
      "            Variable     Coefficient       Std.Error     z-Statistic     Probability\n",
      "------------------------------------------------------------------------------------\n",
      "            CONSTANT      96.5182979      52.5305917       1.8373731       0.0661548\n",
      "           W_dep_var      -0.0148182       0.0857203      -0.1728667       0.8627562\n",
      "        endogenous_1      -1.8097627       1.7652028      -1.0252436       0.3052483\n",
      "               var_1       0.7561942       2.3367036       0.3236158       0.7462289\n",
      "------------------------------------------------------------------------------------\n",
      "Instrumented: W_dep_var, endogenous_1\n",
      "Instruments: W_instrument_1, W_var_1, instrument_1\n",
      "================================ END OF REPORT =====================================\n"
     ]
    }
   ],
   "source": [
    "print(handledtsls_ignored.summary)"
   ]
  },
  {
   "cell_type": "markdown",
   "metadata": {},
   "source": [
    "Those other positional arguments get ignored in the equation framework. So, you couldn't provide some variables in equations and some in vectors... you'd have to either have equations or vectors.\n",
    "\n",
    "This is because I assume the equation is a complete specification of the model, and extract only the \"W\" from the rest of the positional arguments. All the rest are assumed to be needed by the wrapper instead. "
   ]
  },
  {
   "cell_type": "markdown",
   "metadata": {},
   "source": [
    "Right now, I'm working on getting this swapped into the testing framework. Since I flatten the `dir` of the pysal call into the handler, it should function exactly the same as a pysal model. In fact, you may be able to rewrite a magic method to fool python into thinking `Model.__class__ == Model._called.__class__`, but I don't think that would be smart. For a model, you need to check the underlying model type, rather than the type of the wrapper. "
   ]
  }
 ],
 "metadata": {
  "kernelspec": {
   "display_name": "Python 2",
   "language": "python",
   "name": "python2"
  },
  "language_info": {
   "codemirror_mode": {
    "name": "ipython",
    "version": 2
   },
   "file_extension": ".py",
   "mimetype": "text/x-python",
   "name": "python",
   "nbconvert_exporter": "python",
   "pygments_lexer": "ipython2",
   "version": "2.7.10"
  }
 },
 "nbformat": 4,
 "nbformat_minor": 0
}
